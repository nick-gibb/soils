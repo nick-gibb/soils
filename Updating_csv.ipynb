{
 "cells": [
  {
   "cell_type": "code",
   "execution_count": 176,
   "metadata": {},
   "outputs": [],
   "source": [
    "import pandas as pd\n",
    "import numpy as np"
   ]
  },
  {
   "cell_type": "markdown",
   "metadata": {},
   "source": [
    "## The old datasets that need updates"
   ]
  },
  {
   "cell_type": "code",
   "execution_count": 193,
   "metadata": {},
   "outputs": [],
   "source": [
    "ON_2006_soil_all_tracts = pd.read_csv(\"Soil_Results_All_Tracts/ON_2006_Soil_All_Tracts.csv\", dtype={\"Tract\": np.int64}, index_col=['Tract'])\n",
    "ON_2011_soil_all_tracts = pd.read_csv(\"Soil_Results_All_Tracts/ON_2011_Soil_All_Tracts.csv\", dtype={\"Tract\": np.int64}, index_col=['Tract'])\n",
    "QC_2006_soil_all_tracts = pd.read_csv(\"Soil_Results_All_Tracts/QC_2006_Soil_All_Tracts.csv\", dtype={\"Tract\": np.int64}, index_col=['Tract'])\n",
    "QC_2011_soil_all_tracts = pd.read_csv(\"Soil_Results_All_Tracts/QC_2011_Soil_All_Tracts.csv\", dtype={\"Tract\": np.int64}, index_col=['Tract'])"
   ]
  },
  {
   "cell_type": "markdown",
   "metadata": {},
   "source": [
    "## Ontario 2006 update"
   ]
  },
  {
   "cell_type": "code",
   "execution_count": 186,
   "metadata": {},
   "outputs": [],
   "source": [
    "# Tracts that need to be updated\n",
    "ON_2006_soil_revised_tracts = pd.read_csv(\"ON_2006_soil_results.csv\", names=[\"Tract\", \"Type\"], header=None).iloc[1:]\n",
    "# Some data cleaning\n",
    "ON_2006_soil_revised_tracts[\"Tract\"] = ON_2006_soil_revised_tracts[\"Tract\"].astype(np.int64)\n",
    "ON_2006_soil_revised_tracts = ON_2006_soil_revised_tracts.set_index([\"Tract\"])\n",
    "# Perform the update and export to new csv\n",
    "ON_2006_soil_all_tracts.update(ON_2006_soil_revised_tracts)\n",
    "ON_2006_soil_all_tracts.to_csv(\"Soil_Results_All_Tracts/ON_2006_Soil_All_Tracts_revised.csv\")"
   ]
  },
  {
   "cell_type": "markdown",
   "metadata": {},
   "source": [
    "## Ontario 2011 update"
   ]
  },
  {
   "cell_type": "code",
   "execution_count": 196,
   "metadata": {},
   "outputs": [],
   "source": [
    "# Tracts that need to be updated\n",
    "ON_2011_soil_revised_tracts = pd.read_csv(\"ON_2011_soil_results.csv\", names=[\"Tract\", \"Type\"], header=None).iloc[1:]\n",
    "# Some data cleaning\n",
    "ON_2011_soil_revised_tracts[\"Tract\"] = ON_2011_soil_revised_tracts[\"Tract\"].astype(np.int64)\n",
    "ON_2011_soil_revised_tracts = ON_2011_soil_revised_tracts.set_index([\"Tract\"])\n",
    "# Perform the update and export to new csv\n",
    "ON_2011_soil_all_tracts.update(ON_2011_soil_revised_tracts)\n",
    "ON_2011_soil_all_tracts.to_csv(\"Soil_Results_All_Tracts/ON_2011_Soil_All_Tracts_revised.csv\")"
   ]
  },
  {
   "cell_type": "markdown",
   "metadata": {},
   "source": [
    "## Quebec 2006 update"
   ]
  },
  {
   "cell_type": "code",
   "execution_count": 200,
   "metadata": {},
   "outputs": [],
   "source": [
    "# Tracts that need to be updated\n",
    "QC_2006_soil_revised_tracts = pd.read_csv(\"QC_2006_soil_results.csv\", names=[\"Tract\", \"Type\"], header=None).iloc[1:]\n",
    "# Some data cleaning\n",
    "QC_2006_soil_revised_tracts[\"Tract\"] = QC_2006_soil_revised_tracts[\"Tract\"].astype(np.int64)\n",
    "QC_2006_soil_revised_tracts = QC_2006_soil_revised_tracts.set_index([\"Tract\"])\n",
    "\n",
    "# Perform the update and export to new csv\n",
    "QC_2006_soil_all_tracts.update(QC_2006_soil_revised_tracts)\n",
    "QC_2006_soil_all_tracts.to_csv(\"Soil_Results_All_Tracts/QC_2006_Soil_All_Tracts_revised.csv\")"
   ]
  },
  {
   "cell_type": "markdown",
   "metadata": {},
   "source": [
    "## Quebec 2011 update"
   ]
  },
  {
   "cell_type": "code",
   "execution_count": 198,
   "metadata": {},
   "outputs": [],
   "source": [
    "# Tracts that need to be updated\n",
    "QC_2011_soil_revised_tracts = pd.read_csv(\"QC_2011_soil_results.csv\", names=[\"Tract\", \"Type\"], header=None).iloc[1:]\n",
    "# Some data cleaning\n",
    "QC_2011_soil_revised_tracts[\"Tract\"] = QC_2011_soil_revised_tracts[\"Tract\"].astype(np.int64)\n",
    "QC_2011_soil_revised_tracts = QC_2011_soil_revised_tracts.set_index([\"Tract\"])\n",
    "# Perform the update and export to new csv\n",
    "QC_2011_soil_all_tracts.update(QC_2011_soil_revised_tracts)\n",
    "QC_2011_soil_all_tracts.to_csv(\"Soil_Results_All_Tracts/QC_2011_Soil_All_Tracts_revised.csv\")"
   ]
  }
 ],
 "metadata": {
  "kernelspec": {
   "display_name": "Python 3",
   "language": "python",
   "name": "python3"
  },
  "language_info": {
   "codemirror_mode": {
    "name": "ipython",
    "version": 3
   },
   "file_extension": ".py",
   "mimetype": "text/x-python",
   "name": "python",
   "nbconvert_exporter": "python",
   "pygments_lexer": "ipython3",
   "version": "3.7.3"
  }
 },
 "nbformat": 4,
 "nbformat_minor": 2
}
