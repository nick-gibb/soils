{
 "cells": [
  {
   "cell_type": "code",
   "execution_count": null,
   "metadata": {},
   "outputs": [],
   "source": [
    "import geopandas as gpd\n",
    "import matplotlib.pyplot as plt\n",
    "import pandas as pd\n",
    "import time"
   ]
  },
  {
   "cell_type": "markdown",
   "metadata": {},
   "source": [
    "## Algorithm to determine dominant soil type for each census tract"
   ]
  },
  {
   "cell_type": "markdown",
   "metadata": {},
   "source": [
    "There are hundreds of thousands of soil points -- this algorithm must be efficient!"
   ]
  },
  {
   "cell_type": "code",
   "execution_count": null,
   "metadata": {},
   "outputs": [],
   "source": [
    "def calculate_dominant_soil(points, polygons, results_filename):\n",
    "    progress = 0\n",
    "    start_time = time.time()\n",
    "    point_geometries = points[\"geometry\"]\n",
    "    num_polys = polygons.shape[0]\n",
    "    num_points = points.shape[0]\n",
    "    results = {tract:{\"A\": 0, \"B\": 0, \"C\": 0, \"D\": 0, \"E\": 0} for tract in polygons[\"Tract\"]}\n",
    "    for i, poly in polygons.iterrows():\n",
    "        # Need to limit print statements to avoid performance decrease, but we still want to monitor progress\n",
    "        if not progress % 200:\n",
    "            print(\"Processing polygon {} of {}. There are {} points remaining.\".format(progress, num_polys, points.shape[0]))\n",
    "\n",
    "        single_poly_geometry = poly[\"geometry\"]\n",
    "        \n",
    "        # Using shapely function .contains() to check what points are contained in the polygon.\n",
    "        within_condition = point_geometries.within(single_poly_geometry)\n",
    "               \n",
    "        # Array for the dominant soil.\n",
    "        dominant_soil = points[within_condition][\"3D model\"].mode().values\n",
    "        \n",
    "        # Default to soil type D if the array is empty, meaning there are no points within the poly\n",
    "        if dominant_soil.size == 0:\n",
    "            dominant_soil = 'D'\n",
    "        # If there are points within, take the last element of the array.\n",
    "        # For example, take C instead of B if they are tied.\n",
    "        else:\n",
    "            dominant_soil = dominant_soil[-1]\n",
    "        \n",
    "        # Store the results\n",
    "        results[poly[\"Tract\"]] = dominant_soil\n",
    "        \n",
    "        # Remove the points that are within this polygon; for subsequent polys, these points don't need to be considered\n",
    "        points = points[~within_condition]\n",
    "        progress += 1\n",
    "    # Export results to CSV. Two columns: tract number and dominant soil type.\n",
    "    pd.Series(results, name=results_filename).to_csv(\"{}.csv\".format(results_filename), header=True)\n",
    "    time_elapsed = time.time() - start_time\n",
    "    print(\"Completed analysis of {} points and {} polygons in {}s\".format(num_points, num_polys, time_elapsed))\n",
    "    # Return the results so we can visually display soils for each tract.\n",
    "    return results"
   ]
  },
  {
   "cell_type": "markdown",
   "metadata": {},
   "source": [
    "## QC and ON Point files"
   ]
  },
  {
   "cell_type": "code",
   "execution_count": null,
   "metadata": {},
   "outputs": [],
   "source": [
    "# ON soil points (just points that overlap ON census tracts)\n",
    "ON_point_file = 'May_Analysis_2/soils_all_Ontario_2011_selected.shp'\n",
    "ON_points = gpd.GeoDataFrame.from_file(ON_point_file).to_crs(epsg=4269)\n",
    "\n",
    "# QC soil points (just points that overlap QC census tracts)\n",
    "QC_point_file = 'May_Analysis_2/soils_all_QC_2011_selected.shp'\n",
    "QC_points = gpd.GeoDataFrame.from_file(QC_point_file).to_crs(epsg=4269)"
   ]
  },
  {
   "cell_type": "markdown",
   "metadata": {},
   "source": [
    "## Polygons and results"
   ]
  },
  {
   "cell_type": "markdown",
   "metadata": {},
   "source": [
    "### ON 2011"
   ]
  },
  {
   "cell_type": "code",
   "execution_count": null,
   "metadata": {},
   "outputs": [],
   "source": [
    "# 2011 ON polygons, cropped to the area over which we have soil data \n",
    "ON_2011_polys_path = 'May_Analysis_2/2011_ON_tracts_selected.shp'\n",
    "ON_2011_polygons = gpd.GeoDataFrame.from_file(ON_2011_polys_path)"
   ]
  },
  {
   "cell_type": "code",
   "execution_count": null,
   "metadata": {
    "scrolled": true
   },
   "outputs": [],
   "source": [
    "ON_2011_results = calculate_dominant_soil(ON_points, ON_2011_polygons, \"ON_2011_soil_results\")"
   ]
  },
  {
   "cell_type": "markdown",
   "metadata": {},
   "source": [
    "### ON 2006"
   ]
  },
  {
   "cell_type": "code",
   "execution_count": null,
   "metadata": {},
   "outputs": [],
   "source": [
    "# 2006 ON polygons, cropped to the area over which we have soil data\n",
    "ON_2006_polys_path = 'May_Analysis_2/2006_ON_tracts_selected.shp'\n",
    "ON_2006_polygons = gpd.GeoDataFrame.from_file(ON_2006_polys_path)\n",
    "ON_2006_results = calculate_dominant_soil(ON_points, ON_2006_polygons, \"ON_2006_soil_results\")"
   ]
  },
  {
   "cell_type": "markdown",
   "metadata": {},
   "source": [
    "### QC 2011"
   ]
  },
  {
   "cell_type": "code",
   "execution_count": null,
   "metadata": {},
   "outputs": [],
   "source": [
    "# 2011 QC polygons, cropped to the area over which we have soil data \n",
    "QC_2011_polys_path = 'May_Analysis_2/2011_QC_tracts_selected.shp'\n",
    "QC_2011_polygons = gpd.GeoDataFrame.from_file(QC_2011_polys_path).sort_values(\"Shape_Area\", ascending=False)\n",
    "QC_2011_results = calculate_dominant_soil(QC_points, QC_2011_polygons, \"QC_2011_soil_results\")"
   ]
  },
  {
   "cell_type": "markdown",
   "metadata": {},
   "source": [
    "### QC 2006"
   ]
  },
  {
   "cell_type": "code",
   "execution_count": null,
   "metadata": {},
   "outputs": [],
   "source": [
    "# 2006 QC polygons, cropped to the area over which we have soil data \n",
    "QC_2006_polys_path = 'May_Analysis_2/2006_QC_tracts_selected.shp'\n",
    "QC_2006_polygons = gpd.GeoDataFrame.from_file(QC_2006_polys_path)\n",
    "QC_2006_results = calculate_dominant_soil(QC_points, QC_2006_polygons, \"QC_2006_soil_results\")"
   ]
  },
  {
   "cell_type": "markdown",
   "metadata": {},
   "source": [
    "### Mapping the results"
   ]
  },
  {
   "cell_type": "markdown",
   "metadata": {},
   "source": [
    "#### 2011"
   ]
  },
  {
   "cell_type": "code",
   "execution_count": null,
   "metadata": {
    "scrolled": false
   },
   "outputs": [],
   "source": [
    "QC_2011_polygons['soil'] = QC_2011_polygons['Tract'].map(QC_2011_results)\n",
    "ON_2011_polygons['soil'] = ON_2011_polygons['Tract'].map(ON_2011_results)\n",
    "QC_ON_2011_polygons = pd.concat([ON_2011_polygons, QC_2011_polygons], sort=False)\n",
    "QC_ON_2011_polygons.plot(column=\"soil\", legend=True, figsize=(12, 12))"
   ]
  },
  {
   "cell_type": "markdown",
   "metadata": {},
   "source": [
    "#### 2006"
   ]
  },
  {
   "cell_type": "code",
   "execution_count": null,
   "metadata": {},
   "outputs": [],
   "source": [
    "QC_2006_polygons['soil'] = QC_2006_polygons['Tract'].map(QC_2006_results)\n",
    "ON_2006_polygons['soil'] = ON_2006_polygons['Tract'].map(ON_2006_results)\n",
    "QC_ON_2006_polygons = pd.concat([ON_2006_polygons, QC_2006_polygons], sort=False)\n",
    "QC_ON_2006_polygons.plot(column=\"soil\", legend=True, figsize=(12, 12))"
   ]
  }
 ],
 "metadata": {
  "kernelspec": {
   "display_name": "Python 3",
   "language": "python",
   "name": "python3"
  },
  "language_info": {
   "codemirror_mode": {
    "name": "ipython",
    "version": 3
   },
   "file_extension": ".py",
   "mimetype": "text/x-python",
   "name": "python",
   "nbconvert_exporter": "python",
   "pygments_lexer": "ipython3",
   "version": "3.7.3"
  }
 },
 "nbformat": 4,
 "nbformat_minor": 2
}
